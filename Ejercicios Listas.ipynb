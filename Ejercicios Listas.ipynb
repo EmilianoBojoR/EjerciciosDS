{
 "cells": [
  {
   "cell_type": "code",
   "execution_count": 1,
   "id": "ac668e28",
   "metadata": {},
   "outputs": [
    {
     "name": "stdout",
     "output_type": "stream",
     "text": [
      "[2, 4, 6, 8]\n"
     ]
    }
   ],
   "source": [
    "list=[x for x in range(1,10)]\n",
    "new_list=[]\n",
    "\n",
    "def IMPAR():\n",
    "    for i in list:\n",
    "        if (i % 2) == 0:\n",
    "            #print(i)\n",
    "            new_list.append(i)\n",
    "            #print(new_list)\n",
    "        else:\n",
    "            None\n",
    "    print(new_list)\n",
    "\n",
    "IMPAR()"
   ]
  },
  {
   "cell_type": "code",
   "execution_count": null,
   "id": "614a3f03",
   "metadata": {},
   "outputs": [],
   "source": []
  }
 ],
 "metadata": {
  "kernelspec": {
   "display_name": "Python 3 (ipykernel)",
   "language": "python",
   "name": "python3"
  },
  "language_info": {
   "codemirror_mode": {
    "name": "ipython",
    "version": 3
   },
   "file_extension": ".py",
   "mimetype": "text/x-python",
   "name": "python",
   "nbconvert_exporter": "python",
   "pygments_lexer": "ipython3",
   "version": "3.9.7"
  }
 },
 "nbformat": 4,
 "nbformat_minor": 5
}
